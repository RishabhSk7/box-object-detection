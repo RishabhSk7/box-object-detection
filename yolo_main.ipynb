{
 "cells": [
  {
   "cell_type": "code",
   "execution_count": 1,
   "metadata": {},
   "outputs": [
    {
     "ename": "ModuleNotFoundError",
     "evalue": "No module named 'ultralytics'",
     "output_type": "error",
     "traceback": [
      "\u001b[0;31m---------------------------------------------------------------------------\u001b[0m",
      "\u001b[0;31mModuleNotFoundError\u001b[0m                       Traceback (most recent call last)",
      "\u001b[1;32m/home/Sk7/Documents/python/yolo-box-detection/yolo_main.ipynb Cell 1\u001b[0m line \u001b[0;36m1\n\u001b[0;32m----> <a href='vscode-notebook-cell:/home/Sk7/Documents/python/yolo-box-detection/yolo_main.ipynb#W0sZmlsZQ%3D%3D?line=0'>1</a>\u001b[0m \u001b[39mfrom\u001b[39;00m \u001b[39multralytics\u001b[39;00m \u001b[39mimport\u001b[39;00m YOLO\n\u001b[1;32m      <a href='vscode-notebook-cell:/home/Sk7/Documents/python/yolo-box-detection/yolo_main.ipynb#W0sZmlsZQ%3D%3D?line=1'>2</a>\u001b[0m \u001b[39mimport\u001b[39;00m \u001b[39mcv2\u001b[39;00m\n\u001b[1;32m      <a href='vscode-notebook-cell:/home/Sk7/Documents/python/yolo-box-detection/yolo_main.ipynb#W0sZmlsZQ%3D%3D?line=3'>4</a>\u001b[0m \u001b[39m# model = YOLO(\"yolov8s.pt\")\u001b[39;00m\n\u001b[1;32m      <a href='vscode-notebook-cell:/home/Sk7/Documents/python/yolo-box-detection/yolo_main.ipynb#W0sZmlsZQ%3D%3D?line=4'>5</a>\u001b[0m \u001b[39m# model.train(data=\"ignore/data.yaml\", epochs=30, batch=7)\u001b[39;00m\n\u001b[1;32m      <a href='vscode-notebook-cell:/home/Sk7/Documents/python/yolo-box-detection/yolo_main.ipynb#W0sZmlsZQ%3D%3D?line=5'>6</a>\u001b[0m \u001b[39m# after being trained:\u001b[39;00m\n",
      "\u001b[0;31mModuleNotFoundError\u001b[0m: No module named 'ultralytics'"
     ]
    }
   ],
   "source": [
    "from ultralytics import YOLO\n",
    "import cv2\n",
    "\n",
    "# model = YOLO(\"yolov8s.pt\")\n",
    "# model.train(data=\"ignore/data.yaml\", epochs=30, batch=7)\n",
    "# after being trained:\n",
    "model = YOLO(\"weights/last.pt\")\n",
    "#The weights folder has 2 files, best.pt, last.pt, the epoch with best returns and last epoch respectively."
   ]
  },
  {
   "cell_type": "code",
   "execution_count": 3,
   "metadata": {},
   "outputs": [
    {
     "name": "stderr",
     "output_type": "stream",
     "text": [
      "\n",
      "image 1/1 /home/Sk7/Documents/python/notes_organiser/ignore/test/images/266_jpg.rf.1449780603795d97eed0e69242590995.jpg: 480x640 4 cardboards, 184.5ms\n",
      "Speed: 2.0ms preprocess, 184.5ms inference, 1.5ms postprocess per image at shape (1, 3, 480, 640)\n"
     ]
    },
    {
     "name": "stdout",
     "output_type": "stream",
     "text": [
      "Coordinates: [23, 29, 228, 261]\n",
      "Probability: 0.94\n",
      "Coordinates: [309, 50, 564, 246]\n",
      "Probability: 0.94\n",
      "Coordinates: [359, 282, 553, 480]\n",
      "Probability: 0.93\n",
      "Coordinates: [33, 289, 278, 480]\n",
      "Probability: 0.9\n"
     ]
    },
    {
     "name": "stderr",
     "output_type": "stream",
     "text": [
      "qt.qpa.plugin: Could not find the Qt platform plugin \"wayland\" in \"/home/Sk7/Documents/python/notes_organiser/picture/lib/python3.11/site-packages/cv2/qt/plugins\"\n"
     ]
    }
   ],
   "source": [
    "\n",
    "img = \"images/303_jpg.rf.c3390072384e5dbfe04b00b0c37c4892.jpg\"\n",
    "results = model(img)\n",
    "\n",
    "img = cv2.imread(img, 1)\n",
    "\n",
    "for box in results[0].boxes:\n",
    "    cords = box.xyxy[0].tolist()\n",
    "    #cords are in format: [209, 145, 434, 324], with first two being top left corner, lsat 2 being bottom right\n",
    "    cords = [round(x) for x in cords]\n",
    "    conf = round(box.conf[0].item(), 2)\n",
    "    print(\"Coordinates:\", cords)\n",
    "    print(\"Probability:\", conf)\n",
    "\n",
    "    cv2.putText(img, \"conf\"+str(conf), [cords[0], cords[1]-5], 2, fontScale=0.5, color= (0,0,0))\n",
    "    img = cv2.rectangle(img, cords[:2], cords[2:], (0,0,0), 2)\n",
    "\n",
    "\n",
    "if img is not None:\n",
    "    # Display the image in a window\n",
    "    cv2.imshow('Image', img)\n",
    "\n",
    "    # Wait for a key press indefinitely, and close the window when a key is pressed\n",
    "    cv2.waitKey(0)\n",
    "    cv2.destroyAllWindows()\n",
    "else:\n",
    "    print(\"Failed to load the image.\")\n",
    "\n",
    "    cv2.waitKey(0)\n",
    "    # close the window\n",
    "    cv2.destroyAllWindows()\n",
    "\n",
    "\n",
    "\n"
   ]
  }
 ],
 "metadata": {
  "kernelspec": {
   "display_name": "pciture",
   "language": "python",
   "name": "python3"
  },
  "language_info": {
   "codemirror_mode": {
    "name": "ipython",
    "version": 3
   },
   "file_extension": ".py",
   "mimetype": "text/x-python",
   "name": "python",
   "nbconvert_exporter": "python",
   "pygments_lexer": "ipython3",
   "version": "3.11.5"
  },
  "orig_nbformat": 4
 },
 "nbformat": 4,
 "nbformat_minor": 2
}
